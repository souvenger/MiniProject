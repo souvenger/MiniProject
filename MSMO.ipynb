{
 "cells": [
  {
   "cell_type": "markdown",
   "metadata": {},
   "source": [
    "## SVM and SMO"
   ]
  },
  {
   "cell_type": "markdown",
   "metadata": {},
   "source": [
    "# Main Reference\n",
    "https://web.iitd.ac.in/~sumeet/tr-98-14.pdf"
   ]
  },
  {
   "cell_type": "markdown",
   "metadata": {},
   "source": []
  },
  {
   "cell_type": "code",
   "execution_count": 91,
   "metadata": {},
   "outputs": [],
   "source": [
    "import numpy as np\n",
    "\n",
    "import matplotlib.pyplot as plt\n",
    "%matplotlib inline\n",
    "\n",
    "from sklearn.preprocessing import StandardScaler"
   ]
  },
  {
   "cell_type": "code",
   "execution_count": 92,
   "metadata": {},
   "outputs": [],
   "source": [
    "class SMOModel:\n",
    "    \"\"\"Container object for the model used for sequential minimal optimization.\"\"\"\n",
    "    \n",
    "    def __init__(self, X, y, C, kernel, alphas, b, errors):\n",
    "        self.X = X               # training data vector\n",
    "        self.y = y               # class label vector\n",
    "        self.C = C               # regularization parameter\n",
    "        self.kernel = kernel     # kernel function\n",
    "        self.alphas = alphas     # lagrange multiplier vector\n",
    "        self.b = b               # scalar bias term\n",
    "        self.errors = errors     # error cache\n",
    "        self._obj = []           # record of objective function value\n",
    "        self.m = len(self.X)     # store size of training set"
   ]
  },
  {
   "cell_type": "code",
   "execution_count": 93,
   "metadata": {},
   "outputs": [],
   "source": [
    "def linear_kernel(x, y, b=1):\n",
    "    \"\"\"Returns the linear combination of arrays `x` and `y` with\n",
    "    the optional bias term `b` (set to 1 by default).\"\"\"\n",
    "    return x @ y.T + b # Note the @ operator for matrix multiplication\n",
    "\n",
    "\n",
    "def gaussian_kernel(x, y, sigma=1):\n",
    "    \"\"\"Returns the gaussian similarity of arrays `x` and `y` with\n",
    "    kernel width parameter `sigma` (set to 1 by default).\"\"\"\n",
    "    \n",
    "    if np.ndim(x) == 1 and np.ndim(y) == 1:                                             # for vector-vector\n",
    "        result = np.exp(- (np.linalg.norm(x - y, 2)) ** 2 / (2 * sigma ** 2))\n",
    "    elif (np.ndim(x) > 1 and np.ndim(y) == 1) or (np.ndim(x) == 1 and np.ndim(y) > 1):  # for matrix-vector\n",
    "        result = np.exp(- (np.linalg.norm(x - y, 2, axis=1) ** 2) / (2 * sigma ** 2))\n",
    "    elif np.ndim(x) > 1 and np.ndim(y) > 1:                                             # for matrix-matrix\n",
    "        result = np.exp(- (np.linalg.norm(x[:, np.newaxis] - y[np.newaxis, :], 2, axis=2) ** 2) / (2 * sigma ** 2))\n",
    "    return result"
   ]
  },
  {
   "cell_type": "markdown",
   "metadata": {},
   "source": []
  },
  {
   "cell_type": "markdown",
   "metadata": {},
   "source": [
    "Let us now define objective function programatically\n",
    "$$W({\\alpha _2}) = \\sum\\limits_{i = 1}^m {{\\alpha _i}}  - \\frac{1}{2}\\sum\\limits_{i,j = 1}^m {{y^{(i)}}{y^{(j)}}{\\alpha _i}{\\alpha _j}{K_{ij}}} $$"
   ]
  },
  {
   "cell_type": "code",
   "execution_count": 94,
   "metadata": {},
   "outputs": [],
   "source": [
    "# Objective function to optimize\n",
    "\n",
    "def objective_function(alphas, target, kernel, X_train):\n",
    "    \"\"\"Returns the SVM objective function based in the input model defined by:\n",
    "    `alphas`: vector of Lagrange multipliers\n",
    "    `target`: vector of class labels (-1 or 1) for training data\n",
    "    `kernel`: kernel function\n",
    "    `X_train`: training data for model.\"\"\"\n",
    "    \n",
    "    return np.sum(alphas) - 0.5 * np.sum((target[:, None] * target[None, :]) * kernel(X_train, X_train) * (alphas[:, None] * alphas[None, :]))"
   ]
  },
  {
   "cell_type": "markdown",
   "metadata": {},
   "source": [
    "Also define the decision function programatically\n",
    "$$f(x) = \\sum\\limits_{i = 1}^n {{\\alpha _i}{y^{(i)}}K({x^{(i)}},x)}  - b$$"
   ]
  },
  {
   "cell_type": "code",
   "execution_count": 95,
   "metadata": {},
   "outputs": [],
   "source": [
    "# Decision function\n",
    "\n",
    "def decision_function(alphas, target, kernel, X_train, x_test, b):\n",
    "    \"\"\"Applies the SVM decision function to the input feature vectors in `x_test`.\"\"\"\n",
    "    \n",
    "    result = (alphas * target) @ kernel(X_train, x_test) - b\n",
    "    return result"
   ]
  },
  {
   "cell_type": "markdown",
   "metadata": {},
   "source": [
    "`take_step()` carries out the meat of the calculations and computes the two new α values, a new threshold b, and updates the error cache."
   ]
  },
  {
   "cell_type": "code",
   "execution_count": 96,
   "metadata": {},
   "outputs": [],
   "source": [
    "def take_step(i1, i2, model):\n",
    "    \n",
    "    # Skip if chosen alphas are the same\n",
    "    if i1 == i2:\n",
    "        return 0, model\n",
    "    \n",
    "    alph1 = model.alphas[i1]\n",
    "    alph2 = model.alphas[i2]\n",
    "    y1 = model.y[i1]\n",
    "    y2 = model.y[i2]\n",
    "    E1 = model.errors[i1]\n",
    "    E2 = model.errors[i2]\n",
    "    s = y1 * y2\n",
    "    \n",
    "    # Compute L & H, the bounds on new possible alpha values\n",
    "    if (y1 != y2):\n",
    "        L = max(0, alph2 - alph1)\n",
    "        H = min(model.C, model.C + alph2 - alph1)\n",
    "    elif (y1 == y2):\n",
    "        L = max(0, alph1 + alph2 - model.C)\n",
    "        H = min(model.C, alph1 + alph2)\n",
    "    if (L == H):\n",
    "        return 0, model\n",
    "\n",
    "    # Compute kernel & 2nd derivative eta\n",
    "    k11 = model.kernel(model.X[i1], model.X[i1])\n",
    "    k12 = model.kernel(model.X[i1], model.X[i2])\n",
    "    k22 = model.kernel(model.X[i2], model.X[i2])\n",
    "    eta = 2 * k12 - k11 - k22\n",
    "    \n",
    "    # Compute new alpha 2 (a2) if eta is negative\n",
    "    if (eta < 0):\n",
    "        a2 = alph2 - y2 * (E1 - E2) / eta\n",
    "        # Clip a2 based on bounds L & H\n",
    "        if L < a2 < H:\n",
    "            a2 = a2\n",
    "        elif (a2 <= L):\n",
    "            a2 = L\n",
    "        elif (a2 >= H):\n",
    "            a2 = H\n",
    "            \n",
    "    # If eta is non-negative, move new a2 to bound with greater objective function value\n",
    "    else:\n",
    "        alphas_adj = model.alphas.copy()\n",
    "        alphas_adj[i2] = L\n",
    "        # objective function output with a2 = L\n",
    "        Lobj = objective_function(alphas_adj, model.y, model.kernel, model.X) \n",
    "        alphas_adj[i2] = H\n",
    "        # objective function output with a2 = H\n",
    "        Hobj = objective_function(alphas_adj, model.y, model.kernel, model.X)\n",
    "        if Lobj > (Hobj + eps):\n",
    "            a2 = L\n",
    "        elif Lobj < (Hobj - eps):\n",
    "            a2 = H\n",
    "        else:\n",
    "            a2 = alph2\n",
    "            \n",
    "    # Push a2 to 0 or C if very close\n",
    "    if a2 < 1e-8:\n",
    "        a2 = 0.0\n",
    "    elif a2 > (model.C - 1e-8):\n",
    "        a2 = model.C\n",
    "    \n",
    "    # If examples can't be optimized within epsilon (eps), skip this pair\n",
    "    if (np.abs(a2 - alph2) < eps * (a2 + alph2 + eps)):\n",
    "        return 0, model\n",
    "    \n",
    "    # Calculate new alpha 1 (a1)\n",
    "    a1 = alph1 + s * (alph2 - a2)\n",
    "    \n",
    "    # Update threshold b to reflect newly calculated alphas\n",
    "    # Calculate both possible thresholds\n",
    "    b1 = E1 + y1 * (a1 - alph1) * k11 + y2 * (a2 - alph2) * k12 + model.b\n",
    "    b2 = E2 + y1 * (a1 - alph1) * k12 + y2 * (a2 - alph2) * k22 + model.b\n",
    "    \n",
    "    # Set new threshold based on if a1 or a2 is bound by L and/or H\n",
    "    if 0 < a1 and a1 < C:\n",
    "        b_new = b1\n",
    "    elif 0 < a2 and a2 < C:\n",
    "        b_new = b2\n",
    "    # Average thresholds if both are bound\n",
    "    else:\n",
    "        b_new = (b1 + b2) * 0.5\n",
    "\n",
    "    # Update model object with new alphas & threshold\n",
    "    model.alphas[i1] = a1\n",
    "    model.alphas[i2] = a2\n",
    "    \n",
    "    # Update error cache\n",
    "    # Error cache for optimized alphas is set to 0 if they're unbound\n",
    "    for index, alph in zip([i1, i2], [a1, a2]):\n",
    "        if 0.0 < alph < model.C:\n",
    "            model.errors[index] = 0.0\n",
    "    \n",
    "    # Set non-optimized errors based on above equations\n",
    "    non_opt = [n for n in range(model.m) if (n != i1 and n != i2)]\n",
    "    model.errors[non_opt] = model.errors[non_opt] + \\\n",
    "                            y1*(a1 - alph1)*model.kernel(model.X[i1], model.X[non_opt]) + \\\n",
    "                            y2*(a2 - alph2)*model.kernel(model.X[i2], model.X[non_opt]) + model.b - b_new\n",
    "    \n",
    "    # Update model threshold\n",
    "    model.b = b_new\n",
    "    \n",
    "    return 1, model"
   ]
  },
  {
   "cell_type": "markdown",
   "metadata": {},
   "source": [
    "Then `examine_example()` implements the second choice heuristic to choose the second α to optimize, and passes the index of both α values to `take_step()`."
   ]
  },
  {
   "cell_type": "code",
   "execution_count": 97,
   "metadata": {},
   "outputs": [],
   "source": [
    "#step_result --- both alphas are same or bound same or objective function is not converging then neglect that pair of alphas\n",
    "def examine_example(i2, model):\n",
    "    \n",
    "    y2 = model.y[i2]\n",
    "    alph2 = model.alphas[i2]\n",
    "    E2 = model.errors[i2]\n",
    "    r2 = E2 * y2\n",
    "\n",
    "    # Proceed if error is within specified tolerance (tol)\n",
    "    if ((r2 < -tol and alph2 < model.C) or (r2 > tol and alph2 > 0)):\n",
    "        \n",
    "        if len(model.alphas[(model.alphas != 0) & (model.alphas != model.C)]) > 1:\n",
    "            # Use 2nd choice heuristic is choose max difference in error\n",
    "            if model.errors[i2] > 0:\n",
    "                i1 = np.argmin(model.errors)\n",
    "            elif model.errors[i2] <= 0:\n",
    "                i1 = np.argmax(model.errors)\n",
    "            step_result, model = take_step(i1, i2, model)\n",
    "            if step_result:\n",
    "                return 1, model,i1\n",
    "            \n",
    "        # Loop through non-zero and non-C alphas, starting at a random point\n",
    "        for i1 in np.roll(np.where((model.alphas != 0) & (model.alphas != model.C))[0],\n",
    "                          np.random.choice(np.arange(model.m))):\n",
    "            step_result, model = take_step(i1, i2, model)\n",
    "            if step_result:\n",
    "                return 1, model,i1\n",
    "        \n",
    "        # loop through all alphas, starting at a random point\n",
    "        for i1 in np.roll(np.arange(model.m), np.random.choice(np.arange(model.m))):\n",
    "            step_result, model = take_step(i1, i2, model)\n",
    "            if step_result:\n",
    "                return 1, model,i1\n",
    "    \n",
    "    return 0, model,-1"
   ]
  },
  {
   "cell_type": "markdown",
   "metadata": {},
   "source": [
    "The `train()` function implements selection of the first α to optimize via the first choice heuristic and passes this value to `examine_example()`.The `train()` function uses a while loop to iterate through the α values in a few different ways until no more optimizations can be made, at which point it returns the optimized α vector (embedded in an SMOModel object)."
   ]
  },
  {
   "cell_type": "code",
   "execution_count": 98,
   "metadata": {},
   "outputs": [],
   "source": [
    "def train(model):\n",
    "    \n",
    "    numChanged = 0\n",
    "    examineAll = 1\n",
    "\n",
    "    while(numChanged > 0) or (examineAll):\n",
    "        numChanged = 0\n",
    "        if examineAll:\n",
    "            # loop over all training examples\n",
    "            for i in range(model.alphas.shape[0]):\n",
    "                examine_result, model,i1 = examine_example(i, model)\n",
    "                numChanged += examine_result\n",
    "                if examine_result:\n",
    "                    obj_result = objective_function(model.alphas, model.y, model.kernel, model.X)\n",
    "                    model._obj.append(obj_result)\n",
    "                    for j in range(model.alphas.shape[0]):\n",
    "                        if(j!=i and j!=i1 and i1!=-1):\n",
    "                            examine_result, model,i3 = examine_example(j, model)\n",
    "                            numChanged += examine_result\n",
    "                            if examine_result:\n",
    "                                obj_result = objective_function(model.alphas, model.y, model.kernel, model.X)\n",
    "                                model._obj.append(obj_result)\n",
    "                                break\n",
    "                            \n",
    "        else:\n",
    "            # loop over examples where alphas are not already at their limits\n",
    "            for i in np.where((model.alphas != 0) & (model.alphas != model.C))[0]:\n",
    "                examine_result, model ,i3= examine_example(i, model)\n",
    "                numChanged += examine_result\n",
    "                if examine_result:\n",
    "                    obj_result = objective_function(model.alphas, model.y, model.kernel, model.X)\n",
    "                    model._obj.append(obj_result)\n",
    "        if examineAll == 1:\n",
    "            examineAll = 0\n",
    "        elif numChanged == 0:\n",
    "            examineAll = 1"
   ]
  },
  {
   "cell_type": "code",
   "execution_count": 99,
   "metadata": {},
   "outputs": [
    {
     "data": {
      "application/javascript": [
       "\n",
       "        if (window._pyforest_update_imports_cell) { window._pyforest_update_imports_cell('import seaborn as sns\\nimport pandas as pd'); }\n",
       "    "
      ],
      "text/plain": [
       "<IPython.core.display.Javascript object>"
      ]
     },
     "metadata": {},
     "output_type": "display_data"
    }
   ],
   "source": [
    "train_df=pd.read_csv(\"train.csv\")"
   ]
  },
  {
   "cell_type": "code",
   "execution_count": 100,
   "metadata": {},
   "outputs": [
    {
     "data": {
      "text/html": [
       "<div>\n",
       "<style scoped>\n",
       "    .dataframe tbody tr th:only-of-type {\n",
       "        vertical-align: middle;\n",
       "    }\n",
       "\n",
       "    .dataframe tbody tr th {\n",
       "        vertical-align: top;\n",
       "    }\n",
       "\n",
       "    .dataframe thead th {\n",
       "        text-align: right;\n",
       "    }\n",
       "</style>\n",
       "<table border=\"1\" class=\"dataframe\">\n",
       "  <thead>\n",
       "    <tr style=\"text-align: right;\">\n",
       "      <th></th>\n",
       "      <th>PassengerId</th>\n",
       "      <th>Survived</th>\n",
       "      <th>Pclass</th>\n",
       "      <th>Name</th>\n",
       "      <th>Sex</th>\n",
       "      <th>Age</th>\n",
       "      <th>SibSp</th>\n",
       "      <th>Parch</th>\n",
       "      <th>Ticket</th>\n",
       "      <th>Fare</th>\n",
       "      <th>Cabin</th>\n",
       "      <th>Embarked</th>\n",
       "    </tr>\n",
       "  </thead>\n",
       "  <tbody>\n",
       "    <tr>\n",
       "      <th>0</th>\n",
       "      <td>1</td>\n",
       "      <td>0</td>\n",
       "      <td>3</td>\n",
       "      <td>Braund, Mr. Owen Harris</td>\n",
       "      <td>male</td>\n",
       "      <td>22.0</td>\n",
       "      <td>1</td>\n",
       "      <td>0</td>\n",
       "      <td>A/5 21171</td>\n",
       "      <td>7.2500</td>\n",
       "      <td>NaN</td>\n",
       "      <td>S</td>\n",
       "    </tr>\n",
       "    <tr>\n",
       "      <th>1</th>\n",
       "      <td>2</td>\n",
       "      <td>1</td>\n",
       "      <td>1</td>\n",
       "      <td>Cumings, Mrs. John Bradley (Florence Briggs Th...</td>\n",
       "      <td>female</td>\n",
       "      <td>38.0</td>\n",
       "      <td>1</td>\n",
       "      <td>0</td>\n",
       "      <td>PC 17599</td>\n",
       "      <td>71.2833</td>\n",
       "      <td>C85</td>\n",
       "      <td>C</td>\n",
       "    </tr>\n",
       "    <tr>\n",
       "      <th>2</th>\n",
       "      <td>3</td>\n",
       "      <td>1</td>\n",
       "      <td>3</td>\n",
       "      <td>Heikkinen, Miss. Laina</td>\n",
       "      <td>female</td>\n",
       "      <td>26.0</td>\n",
       "      <td>0</td>\n",
       "      <td>0</td>\n",
       "      <td>STON/O2. 3101282</td>\n",
       "      <td>7.9250</td>\n",
       "      <td>NaN</td>\n",
       "      <td>S</td>\n",
       "    </tr>\n",
       "    <tr>\n",
       "      <th>3</th>\n",
       "      <td>4</td>\n",
       "      <td>1</td>\n",
       "      <td>1</td>\n",
       "      <td>Futrelle, Mrs. Jacques Heath (Lily May Peel)</td>\n",
       "      <td>female</td>\n",
       "      <td>35.0</td>\n",
       "      <td>1</td>\n",
       "      <td>0</td>\n",
       "      <td>113803</td>\n",
       "      <td>53.1000</td>\n",
       "      <td>C123</td>\n",
       "      <td>S</td>\n",
       "    </tr>\n",
       "    <tr>\n",
       "      <th>4</th>\n",
       "      <td>5</td>\n",
       "      <td>0</td>\n",
       "      <td>3</td>\n",
       "      <td>Allen, Mr. William Henry</td>\n",
       "      <td>male</td>\n",
       "      <td>35.0</td>\n",
       "      <td>0</td>\n",
       "      <td>0</td>\n",
       "      <td>373450</td>\n",
       "      <td>8.0500</td>\n",
       "      <td>NaN</td>\n",
       "      <td>S</td>\n",
       "    </tr>\n",
       "  </tbody>\n",
       "</table>\n",
       "</div>"
      ],
      "text/plain": [
       "   PassengerId  Survived  Pclass  \\\n",
       "0            1         0       3   \n",
       "1            2         1       1   \n",
       "2            3         1       3   \n",
       "3            4         1       1   \n",
       "4            5         0       3   \n",
       "\n",
       "                                                Name     Sex   Age  SibSp  \\\n",
       "0                            Braund, Mr. Owen Harris    male  22.0      1   \n",
       "1  Cumings, Mrs. John Bradley (Florence Briggs Th...  female  38.0      1   \n",
       "2                             Heikkinen, Miss. Laina  female  26.0      0   \n",
       "3       Futrelle, Mrs. Jacques Heath (Lily May Peel)  female  35.0      1   \n",
       "4                           Allen, Mr. William Henry    male  35.0      0   \n",
       "\n",
       "   Parch            Ticket     Fare Cabin Embarked  \n",
       "0      0         A/5 21171   7.2500   NaN        S  \n",
       "1      0          PC 17599  71.2833   C85        C  \n",
       "2      0  STON/O2. 3101282   7.9250   NaN        S  \n",
       "3      0            113803  53.1000  C123        S  \n",
       "4      0            373450   8.0500   NaN        S  "
      ]
     },
     "execution_count": 100,
     "metadata": {},
     "output_type": "execute_result"
    }
   ],
   "source": [
    "train_df.head()\n"
   ]
  },
  {
   "cell_type": "code",
   "execution_count": 101,
   "metadata": {},
   "outputs": [
    {
     "name": "stdout",
     "output_type": "stream",
     "text": [
      "<class 'pandas.core.frame.DataFrame'>\n",
      "RangeIndex: 891 entries, 0 to 890\n",
      "Data columns (total 12 columns):\n",
      " #   Column       Non-Null Count  Dtype  \n",
      "---  ------       --------------  -----  \n",
      " 0   PassengerId  891 non-null    int64  \n",
      " 1   Survived     891 non-null    int64  \n",
      " 2   Pclass       891 non-null    int64  \n",
      " 3   Name         891 non-null    object \n",
      " 4   Sex          891 non-null    object \n",
      " 5   Age          714 non-null    float64\n",
      " 6   SibSp        891 non-null    int64  \n",
      " 7   Parch        891 non-null    int64  \n",
      " 8   Ticket       891 non-null    object \n",
      " 9   Fare         891 non-null    float64\n",
      " 10  Cabin        204 non-null    object \n",
      " 11  Embarked     889 non-null    object \n",
      "dtypes: float64(2), int64(5), object(5)\n",
      "memory usage: 83.7+ KB\n"
     ]
    }
   ],
   "source": [
    "train_df.info()"
   ]
  },
  {
   "cell_type": "code",
   "execution_count": 102,
   "metadata": {},
   "outputs": [
    {
     "data": {
      "application/javascript": [
       "\n",
       "        if (window._pyforest_update_imports_cell) { window._pyforest_update_imports_cell('import seaborn as sns\\nimport pandas as pd'); }\n",
       "    "
      ],
      "text/plain": [
       "<IPython.core.display.Javascript object>"
      ]
     },
     "metadata": {},
     "output_type": "display_data"
    },
    {
     "data": {
      "text/plain": [
       "<AxesSubplot:xlabel='Survived', ylabel='count'>"
      ]
     },
     "execution_count": 102,
     "metadata": {},
     "output_type": "execute_result"
    },
    {
     "data": {
      "image/png": "[encoded data removed]",
      "text/plain": [
       "<Figure size 432x288 with 1 Axes>"
      ]
     },
     "metadata": {
      "needs_background": "light"
     },
     "output_type": "display_data"
    }
   ],
   "source": [
    "train_df['Survived'].value_counts()\n",
    "sns.countplot(data=train_df, x='Survived')"
   ]
  },
  {
   "cell_type": "code",
   "execution_count": 103,
   "metadata": {},
   "outputs": [
    {
     "data": {
      "application/javascript": [
       "\n",
       "        if (window._pyforest_update_imports_cell) { window._pyforest_update_imports_cell('import seaborn as sns\\nimport pandas as pd'); }\n",
       "    "
      ],
      "text/plain": [
       "<IPython.core.display.Javascript object>"
      ]
     },
     "metadata": {},
     "output_type": "display_data"
    },
    {
     "data": {
      "text/plain": [
       "<AxesSubplot:>"
      ]
     },
     "execution_count": 103,
     "metadata": {},
     "output_type": "execute_result"
    },
    {
     "data": {
      "image/png": "[encoded data removed]",
      "text/plain": [
       "<Figure size 432x288 with 2 Axes>"
      ]
     },
     "metadata": {
      "needs_background": "light"
     },
     "output_type": "display_data"
    }
   ],
   "source": [
    "sns.heatmap(train_df.corr(), annot=True)"
   ]
  },
  {
   "cell_type": "code",
   "execution_count": 104,
   "metadata": {},
   "outputs": [],
   "source": [
    "train_df[\"Age\"].fillna(train_df[\"Age\"].mean(), inplace = True)\n",
    "train_df['Sex']=train_df['Sex'].replace('male', 0)\n",
    "train_df['Sex']=train_df['Sex'].replace('female', 1)"
   ]
  },
  {
   "cell_type": "code",
   "execution_count": 105,
   "metadata": {},
   "outputs": [],
   "source": [
    "train_df.drop(['Name', 'PassengerId', 'Fare', 'Ticket','Embarked', 'Cabin'], axis = 1, inplace = True)"
   ]
  },
  {
   "cell_type": "code",
   "execution_count": 106,
   "metadata": {},
   "outputs": [],
   "source": [
    "X= train_df.drop('Survived', axis=1)\n",
    "y= train_df['Survived']"
   ]
  },
  {
   "cell_type": "code",
   "execution_count": 107,
   "metadata": {},
   "outputs": [],
   "source": [
    "#spliting the dataset to work on train and test\n",
    "\n",
    "\n",
    "from sklearn.model_selection import train_test_split\n",
    "\n",
    "X_train, X_test, y_train, y_test = train_test_split(X, y, test_size=0.3, random_state=101)"
   ]
  },
  {
   "cell_type": "code",
   "execution_count": 108,
   "metadata": {},
   "outputs": [
    {
     "data": {
      "text/plain": [
       "StandardScaler()"
      ]
     },
     "execution_count": 108,
     "metadata": {},
     "output_type": "execute_result"
    }
   ],
   "source": [
    "#feature scaling\n",
    "\n",
    "\n",
    "from sklearn.preprocessing import StandardScaler\n",
    "\n",
    "scaler= StandardScaler()\n",
    "scaler.fit(X_train)"
   ]
  },
  {
   "cell_type": "code",
   "execution_count": 109,
   "metadata": {},
   "outputs": [],
   "source": [
    "scaled_X_train= scaler.transform(X_train)\n",
    "scaled_X_test= scaler.transform(X_test)"
   ]
  },
  {
   "cell_type": "code",
   "execution_count": 119,
   "metadata": {},
   "outputs": [],
   "source": [
    "y_train=y_train.values"
   ]
  },
  {
   "cell_type": "code",
   "execution_count": 120,
   "metadata": {},
   "outputs": [],
   "source": [
    "# X_train1, y_train1 = make_blobs(n_samples=1000, centers=2,\n",
    "#                         n_features=2, random_state=100)   # Load data"
   ]
  },
  {
   "cell_type": "code",
   "execution_count": 121,
   "metadata": {},
   "outputs": [],
   "source": [
    "# scaler = StandardScaler()\n",
    "# X_train_scaled = scaler.fit_transform(X_train1, y_train1)   # data normalization"
   ]
  },
  {
   "cell_type": "code",
   "execution_count": 122,
   "metadata": {},
   "outputs": [
    {
     "data": {
      "text/plain": [
       "numpy.ndarray"
      ]
     },
     "execution_count": 122,
     "metadata": {},
     "output_type": "execute_result"
    }
   ],
   "source": [
    "type(y_train)"
   ]
  },
  {
   "cell_type": "code",
   "execution_count": 123,
   "metadata": {},
   "outputs": [],
   "source": [
    "y_train[y_train == 0] = -1  # Change labels from [0,1] --> [-1,1]"
   ]
  },
  {
   "cell_type": "code",
   "execution_count": null,
   "metadata": {},
   "outputs": [],
   "source": []
  },
  {
   "cell_type": "code",
   "execution_count": null,
   "metadata": {},
   "outputs": [],
   "source": []
  },
  {
   "cell_type": "markdown",
   "metadata": {},
   "source": [
    "##### Linear kernel"
   ]
  },
  {
   "cell_type": "code",
   "execution_count": 124,
   "metadata": {},
   "outputs": [
    {
     "name": "stdout",
     "output_type": "stream",
     "text": [
      "Wall time: 4.99 ms\n"
     ]
    }
   ],
   "source": [
    "%%time\n",
    "# Set model parameters and initial values\n",
    "\n",
    "C = 10.0\n",
    "m = len(scaled_X_train)\n",
    "initial_alphas = np.zeros(m)\n",
    "initial_b = 0.0\n",
    "\n",
    "# Set tolerances\n",
    "tol = 0.01 # error tolerance\n",
    "eps = 0.01 # alpha tolerance\n",
    "\n",
    "# Instantiate model\n",
    "model = SMOModel(scaled_X_train, y_train, C, linear_kernel,\n",
    "                 initial_alphas, initial_b, np.zeros(m))\n",
    "\n",
    "# Initialize error cache\n",
    "initial_error = decision_function(model.alphas, model.y, model.kernel,\n",
    "                                  model.X, model.X, model.b) - model.y\n",
    "model.errors = initial_error"
   ]
  },
  {
   "cell_type": "code",
   "execution_count": 125,
   "metadata": {},
   "outputs": [
    {
     "name": "stdout",
     "output_type": "stream",
     "text": [
      "Wall time: 1min 54s\n"
     ]
    }
   ],
   "source": [
    "%%time\n",
    "output = train(model)"
   ]
  },
  {
   "cell_type": "code",
   "execution_count": 126,
   "metadata": {},
   "outputs": [
    {
     "data": {
      "text/plain": [
       "array([ 9.90798562e+00, -6.01350628e+00, -3.80259274e+00,  3.65165704e+00,\n",
       "        4.87792935e+00,  4.43386319e-01, -6.91079903e+00,  8.56013428e+00,\n",
       "        6.50504142e+00,  2.56734206e+00, -9.41913805e+00,  9.03647186e+00,\n",
       "       -5.61213136e+00, -1.71315879e+00,  8.07666647e+00,  7.46064933e+00,\n",
       "       -7.15678603e+00,  1.44720195e+01, -1.33831557e+01,  5.30855611e+00,\n",
       "       -9.68113205e+00, -6.91079903e+00, -1.75565051e+00, -7.27564216e+00,\n",
       "        5.30950796e+00,  4.81178206e+00, -8.55291182e+00, -7.55422447e+00,\n",
       "       -1.58370851e+00, -3.40441383e+00,  4.58177796e+00,  7.44649649e+00,\n",
       "       -7.55422447e+00, -7.61111886e+00, -4.86942440e+00, -7.85388050e+00,\n",
       "       -2.03418763e+01, -4.25469981e+00, -7.32515783e+00,  8.59665562e+00,\n",
       "       -1.61997803e+01, -7.31146283e+00, -8.30288243e+00,  9.28841919e+00,\n",
       "       -9.72770129e+00,  3.23294872e+01,  6.05719685e+00,  9.28841919e+00,\n",
       "       -5.39475302e+00, -9.56195458e-01,  8.95658759e+00,  1.00504936e+01,\n",
       "       -2.94968733e+00,  5.53086663e+00,  2.98135484e+00, -5.85489300e+00,\n",
       "       -9.67112036e+00, -6.30903252e+00,  6.92869163e-01, -9.95629923e-01,\n",
       "       -2.81161978e-01, -1.17756832e-01, -3.85701183e+00,  6.23776854e+00,\n",
       "        8.68119743e-01,  4.48969429e+00,  8.73226346e-01, -6.01497329e+00,\n",
       "       -1.00924820e+01, -1.87550232e+00, -6.52540064e+00, -8.35584075e+00,\n",
       "       -5.44806174e+00, -5.72393116e+00, -3.32972927e+00,  5.67738262e+00,\n",
       "       -2.33876502e+01, -6.27838780e+00, -2.41391775e+00, -6.76799239e+00,\n",
       "       -5.97627382e+00, -1.17610571e+01, -1.47019476e+00, -9.82288592e+00,\n",
       "        3.67928449e+00, -2.88912943e+00, -7.88017560e+00, -1.97104655e+00,\n",
       "       -1.20217636e+01, -1.79542956e+00, -7.39308024e+00, -1.12286859e+00,\n",
       "        2.51218298e+00, -7.42262209e+00,  9.10387191e+00,  4.39419782e+00,\n",
       "        3.73040877e+00,  1.04564099e+01, -2.46181989e+00, -5.87199498e+00,\n",
       "       -1.19339955e+01, -4.44639682e+00,  3.72796619e-01,  3.34940079e+01,\n",
       "       -1.04422766e+01, -5.89770783e+00, -6.45940701e+00, -5.83123417e+00,\n",
       "        2.87433162e-01,  1.21869099e+00,  7.58908772e+00, -9.00680532e-01,\n",
       "        7.40874934e+00,  1.47169567e+01,  4.93217274e+00,  5.27203579e+00,\n",
       "        5.70525680e+00, -1.04574764e+01, -2.80256444e+00, -9.28689244e+00,\n",
       "       -1.28085995e+00, -1.05406652e+01, -1.53243323e+00, -8.82245022e+00,\n",
       "        2.29184687e+00, -4.27836018e+00,  8.15598360e+00, -4.07464432e+00,\n",
       "       -5.90547060e+00,  2.31869676e+01, -6.66486471e+00, -5.21449487e+00,\n",
       "       -1.22572039e+01, -6.79323435e+00,  6.42064155e+00, -1.16731385e+01,\n",
       "        1.28512762e+01, -9.66990949e+00, -4.18192271e+00, -9.44179485e+00,\n",
       "        3.44571405e+00, -8.40676689e+00, -1.47669358e+00, -1.17594470e+01,\n",
       "       -3.13326219e+00,  4.33444402e+00, -8.61133702e+00,  5.24743920e+00,\n",
       "        6.79082989e+00,  8.35521060e+00, -8.42712736e+00, -6.91079903e+00,\n",
       "       -1.42697932e+01, -2.61086701e+00,  9.77288960e+00, -4.13067680e+00,\n",
       "        1.13041662e+01, -8.61117326e+00, -6.21903546e+00, -3.51658411e+00,\n",
       "       -6.91079903e+00, -1.21530174e+01, -5.85489300e+00, -6.34058616e+00,\n",
       "        3.70645477e+00, -3.47464890e+00,  2.85211155e+00,  8.80286111e+00,\n",
       "        7.03516534e+00, -2.60425629e+00,  2.48540966e+00,  1.92755561e+01,\n",
       "       -1.39896843e+01, -1.39166328e+01, -4.07072725e+00,  7.28665182e+00,\n",
       "        1.27958076e+01,  1.46449848e+01,  8.88594189e-01, -8.16034328e+00,\n",
       "       -7.00325653e+00, -8.89108455e+00, -1.59969177e-01, -9.50228812e-01,\n",
       "       -2.08594010e+00, -5.33058395e-01,  1.20622172e+01,  1.03841438e+01,\n",
       "        3.09024279e+00, -8.07471361e+00,  1.10820844e+01, -7.25986118e+00,\n",
       "       -5.77006006e+00,  9.92527514e+00,  6.82449368e-01, -1.35121503e+01,\n",
       "        6.09024262e+00, -4.69184868e+00, -1.43899543e+01, -1.85262349e+01,\n",
       "       -9.38793999e+00, -1.15683856e+01, -9.51651432e+00, -4.34734451e+00,\n",
       "       -6.49455665e+00, -4.87399299e+00, -1.36672536e+01, -1.00246920e+01,\n",
       "       -8.03108818e+00, -9.45222861e+00, -9.32274701e+00,  6.70896473e+00,\n",
       "        1.24886941e+01,  2.36548652e+00,  4.75806754e+00, -1.97104655e+00,\n",
       "       -2.82173515e+00, -9.25901251e+00, -7.05498996e+00,  5.08175207e+00,\n",
       "       -1.39181164e+01, -7.27667500e+00, -1.78659624e+01, -6.78829051e+00,\n",
       "       -2.30148608e+00, -1.03409024e+01, -4.97054560e+00, -7.56314906e+00,\n",
       "       -4.85359006e+00, -4.53290748e-01,  1.23175769e+00, -8.29277673e+00,\n",
       "       -6.79338619e+00,  4.88724844e+00,  2.23439104e+00, -5.73328685e+00,\n",
       "        2.61850496e+01,  7.85837596e+00,  5.39433860e+00, -6.83473175e+00,\n",
       "        4.05093367e+00, -9.62662084e-01, -8.14588734e+00, -6.91079903e+00,\n",
       "        5.19688192e+00,  1.05891559e+01, -4.92517969e+00, -6.56810078e+00,\n",
       "       -7.85687217e+00, -2.80693794e+00,  7.16285534e+00,  2.34657525e-01,\n",
       "        3.91217160e+00, -6.75202210e+00, -7.21905281e+00,  1.64525386e+00,\n",
       "       -4.51822574e+00,  8.54383280e+00, -3.93109495e+00, -9.67239571e+00,\n",
       "       -5.90481255e+00,  7.00232991e-01, -1.44760310e+00, -7.81131631e+00,\n",
       "        8.41317022e+00, -3.76993312e+00,  1.20054273e+01, -1.39741004e+01,\n",
       "       -1.92612101e+00,  2.41351106e+00,  8.61486021e+00, -4.78433027e+00,\n",
       "        2.30253708e+00, -1.02101932e+01,  1.88732199e-01, -5.92804105e+00,\n",
       "       -7.19008201e+00, -6.21903546e+00,  1.04566340e+01, -3.69976824e-01,\n",
       "       -9.49631758e+00, -5.02147641e-01, -5.67023322e+00, -6.48806860e+00,\n",
       "       -1.17122756e+01,  1.42668644e+00,  9.20467955e-01, -4.03209718e+00,\n",
       "        1.83862788e+00, -8.52569267e+00, -9.95433828e+00,  6.99546877e+00,\n",
       "        1.62984996e+00,  8.62808357e+00, -5.73709098e+00,  2.11293447e+00,\n",
       "       -2.68089086e+00, -3.90126612e+00, -8.94790572e+00, -1.67236322e-01,\n",
       "       -9.46539676e-01,  2.85565540e-02, -4.67950340e+00, -8.25575266e+00,\n",
       "        6.57794874e+00, -5.97627382e+00,  3.30058247e+00,  9.67883450e+00,\n",
       "       -1.32568264e+01, -6.33202699e+00,  6.30812471e+00, -7.72242947e+00,\n",
       "        8.29549549e+00, -9.29975992e+00, -1.16369481e+01, -5.61213136e+00,\n",
       "       -6.91079903e+00, -5.85489300e+00, -1.01730306e+01, -7.34719713e+00,\n",
       "       -1.32079701e+01, -1.07193915e+01,  1.09563808e+01, -7.99884321e+00,\n",
       "       -1.34643665e+01, -6.30529048e+00, -3.54499362e+00,  1.20376251e+01,\n",
       "        6.53928554e+00, -7.55422447e+00,  7.10356444e+00,  2.71093427e+00,\n",
       "        4.84642488e+00,  1.16758407e+00,  2.91054643e+00,  9.28841919e+00,\n",
       "       -8.37001388e+00,  2.07094440e+00, -3.44817902e+00,  2.66334748e+00,\n",
       "        3.23958205e+00, -2.09225749e+00,  5.02019495e+00, -2.91129718e+01,\n",
       "        1.15352180e+00,  3.20937337e+00, -6.91079903e+00, -2.56251780e+00,\n",
       "        2.49143308e+00, -5.77862070e+00,  6.77169368e+00, -8.19222450e+00,\n",
       "        5.58223671e+00, -4.51987387e+00,  6.47320571e+00, -9.23922905e+00,\n",
       "        2.58583319e+00, -3.52821752e+00,  1.37545281e+01, -1.18596348e+01,\n",
       "       -5.97627382e+00,  9.13093308e+00, -7.20132511e+00, -6.34137871e+00,\n",
       "       -8.53936154e+00,  3.39887610e+00, -4.50987798e+00, -7.38412140e+00,\n",
       "       -6.13205161e+00, -7.71312784e+00, -6.09765464e+00, -1.25492759e+01,\n",
       "       -1.65141071e+00, -6.46179710e+00, -3.06330404e+00, -4.33572388e+00,\n",
       "       -4.64558926e-02, -1.20994273e+01, -8.34395986e+00,  8.27814482e+00,\n",
       "       -7.91836693e+00, -5.32256070e+00, -5.85489300e+00,  3.16319149e+00,\n",
       "       -5.73351218e+00, -7.37121433e+00,  9.47947098e+00,  1.34512089e+01,\n",
       "        8.14968737e-01, -7.60684073e+00,  9.26526417e+00,  5.94515293e+00,\n",
       "       -6.91079903e+00,  9.28841919e+00, -5.08567030e+00,  5.16147134e+00,\n",
       "        1.64063750e+00, -8.55758141e+00, -7.49942708e+00,  8.56013428e+00,\n",
       "       -5.36936973e+00, -7.00801079e+00,  1.70941570e+00, -1.00161316e+01,\n",
       "       -3.85899740e+00,  4.23123918e+00, -4.88388140e+00,  4.82320272e+00,\n",
       "        1.00000000e+00,  1.05424535e-01, -1.27853812e+00, -7.17800503e-01,\n",
       "        3.34109881e+00,  1.09073201e+00,  1.87387366e-01, -3.29191215e+00,\n",
       "        3.34109881e+00, -6.09601225e+00, -3.84108762e+00,  3.61593378e+00,\n",
       "       -1.20507865e+01,  5.19371455e+00,  3.50731235e+00, -7.76369012e+00,\n",
       "        9.27822927e+00, -2.85293184e+00, -5.40600133e+00, -6.59789520e+00,\n",
       "        1.20426980e+00, -6.60534260e+00, -4.47907659e+00, -4.95149799e+00,\n",
       "        3.89924075e+00, -7.67560529e+00, -1.41550560e+01, -4.71456086e+00,\n",
       "       -6.91079903e+00, -1.77495508e+00, -5.78803977e+00,  4.79749876e+00,\n",
       "        1.15412581e+00,  5.07678175e+00, -9.59955849e+00, -1.97087667e+00,\n",
       "       -1.00000000e+00, -7.60684073e+00, -6.91079903e+00, -3.12380529e+00,\n",
       "       -4.41064731e+00, -2.57778077e+00,  7.58908772e+00,  3.56289140e+00,\n",
       "        9.53118083e+00,  4.12716101e+00, -5.48483375e+00, -8.76803266e+00,\n",
       "        4.52238255e+00,  1.29499866e+00, -5.74823766e+00,  2.37005226e+00,\n",
       "       -1.34339966e+01,  7.34632608e+00, -6.26735278e+00, -9.79299132e+00,\n",
       "       -5.97627382e+00,  8.56013428e+00, -7.31146283e+00, -9.22733144e-02,\n",
       "       -9.57503663e+00,  7.25385654e+00, -1.11956490e+01, -5.36953961e+00,\n",
       "       -7.64336208e+00,  6.08875033e+00, -8.16112857e+00, -7.43284365e+00,\n",
       "       -2.26963113e-01, -9.80527466e+00, -7.19008201e+00, -5.63258432e-01,\n",
       "       -6.91079903e+00, -1.99711090e+00, -3.36298379e+00, -5.58005803e+00,\n",
       "        2.21440314e+00,  1.17518922e+01,  9.76593900e+00,  1.55286564e+00,\n",
       "        8.70721905e+00, -1.04673641e+01,  7.25718848e+00,  2.97506224e+00,\n",
       "       -2.75953137e+00,  7.24642084e+00, -2.12540384e+00, -4.63745088e+00,\n",
       "       -5.04965213e+00, -7.13140616e+00, -6.91079903e+00, -6.70455874e+00,\n",
       "        5.39372503e+00, -8.72277027e+00, -1.71472256e+01, -1.40394955e+00,\n",
       "       -7.60684073e+00, -3.53026825e+00, -6.57719554e+00, -5.49075055e+00,\n",
       "        2.58887646e+00,  7.74486193e-01, -1.06051991e+00,  5.02832878e+00,\n",
       "       -1.49149478e+01, -7.31146283e+00, -4.09795413e+00, -5.89508160e-01,\n",
       "       -1.39682189e+01,  7.28524433e+00, -6.85695215e+00, -6.91079903e+00,\n",
       "       -6.38364891e+00,  5.07678175e+00, -4.76796686e+00,  7.25718848e+00,\n",
       "        6.39009328e+00, -3.16707606e+00, -4.22091778e+00, -8.51277721e+00,\n",
       "        2.49529307e-01, -4.12313768e+00, -1.51598742e+01, -6.29795959e+00,\n",
       "       -8.52802300e+00, -5.85489300e+00, -4.56706550e+00, -5.16450767e+00,\n",
       "       -4.50094413e+00, -7.60684073e+00,  7.51114959e+00,  8.15348551e+00,\n",
       "       -5.45924766e+00,  1.28543791e+00, -6.34041628e+00, -5.73351218e+00,\n",
       "       -6.91079903e+00, -7.36293113e+00, -6.09765464e+00, -6.21903546e+00,\n",
       "        7.31349599e+00, -2.79505916e+00,  3.20420380e+00,  6.04524501e+00,\n",
       "       -9.67459279e+00, -6.34041628e+00, -4.00864664e+00, -1.25443234e+01,\n",
       "       -5.61230125e+00, -8.82872307e+00, -6.91079903e+00, -1.58120014e+00,\n",
       "       -2.88088790e+00, -5.95157790e+00, -6.46179710e+00,  1.18391570e+01,\n",
       "        1.85122866e+01, -4.70401104e+00,  8.97821960e+00,  1.47612071e+01,\n",
       "       -1.69793658e+00, -7.49353406e+00,  9.43550396e+00, -3.88168486e+00,\n",
       "       -6.21903546e+00,  4.21211179e+00,  1.03548249e+01,  2.15008688e+00,\n",
       "       -7.19008201e+00, -8.03222042e+00,  6.81929338e+00, -4.60901148e+00,\n",
       "       -6.27972587e+00, -5.24798891e+00, -4.39691600e+00, -3.79158896e+00,\n",
       "        7.90061392e+00, -3.30165670e-01, -2.60289420e+01, -6.30397236e+00,\n",
       "        1.96800593e+00, -6.76524915e+00, -6.91079903e+00,  3.59600109e-01,\n",
       "        7.93428989e+00, -7.03662787e+00, -5.73351218e+00,  5.67923783e+00,\n",
       "       -3.42744650e+00, -9.76921688e+00, -6.18679225e+00,  1.12674580e+01,\n",
       "        3.02819438e+00, -5.85489300e+00, -1.21250021e+01,  1.60823809e+01,\n",
       "       -7.24183021e+00, -7.52198126e+00, -6.91079903e+00, -1.12634937e+00,\n",
       "       -7.15783880e+00, -3.39092515e+00,  5.07250361e+00,  4.16255739e+00,\n",
       "        3.19168712e+00, -1.22381861e+01, -6.91079903e+00,  8.71375831e+00,\n",
       "       -6.34041628e+00, -5.01381312e+00, -5.61213136e+00, -8.51937609e+00,\n",
       "        7.22494526e+00,  6.03684102e+00, -3.42494928e+00])"
      ]
     },
     "execution_count": 126,
     "metadata": {},
     "output_type": "execute_result"
    }
   ],
   "source": [
    "out=model.errors+model.y\n",
    "out"
   ]
  },
  {
   "cell_type": "code",
   "execution_count": 127,
   "metadata": {},
   "outputs": [],
   "source": [
    "out=[1 if i>0 else -1 for i in out]"
   ]
  },
  {
   "cell_type": "code",
   "execution_count": 128,
   "metadata": {},
   "outputs": [
    {
     "name": "stdout",
     "output_type": "stream",
     "text": [
      "              precision    recall  f1-score   support\n",
      "\n",
      "          -1       0.78      0.78      0.78       395\n",
      "           1       0.62      0.61      0.61       228\n",
      "\n",
      "    accuracy                           0.72       623\n",
      "   macro avg       0.70      0.70      0.70       623\n",
      "weighted avg       0.72      0.72      0.72       623\n",
      "\n"
     ]
    }
   ],
   "source": [
    "from sklearn.metrics import classification_report\n",
    "\n",
    "print(classification_report(y_train, out))"
   ]
  },
  {
   "cell_type": "code",
   "execution_count": 129,
   "metadata": {},
   "outputs": [],
   "source": [
    "# %%time\n",
    "# # Set model parameters and initial values\n",
    "\n",
    "# C = 1000.0\n",
    "# m = len(scaled_X_train)\n",
    "# initial_alphas = np.zeros(m)\n",
    "# initial_b = 0.0\n",
    "\n",
    "# # Set tolerances\n",
    "# tol = 0.01 # error tolerance\n",
    "# eps = 0.01 # alpha tolerance\n",
    "\n",
    "# # Instantiate model\n",
    "# model = SMOModel(scaled_X_train, y_train, C, linear_kernel,\n",
    "#                  initial_alphas, initial_b, np.zeros(m))\n",
    "\n",
    "# # Initialize error cache\n",
    "# initial_error = decision_function(model.alphas, model.y, model.kernel,\n",
    "#                                   model.X, model.X, model.b) - model.y\n",
    "# model.errors = initial_error"
   ]
  },
  {
   "cell_type": "code",
   "execution_count": 130,
   "metadata": {},
   "outputs": [],
   "source": [
    "# %%time\n",
    "# output = train(model)"
   ]
  },
  {
   "cell_type": "markdown",
   "metadata": {},
   "source": []
  },
  {
   "cell_type": "code",
   "execution_count": 131,
   "metadata": {},
   "outputs": [
    {
     "data": {
      "image/png": "[encoded data removed]",
      "text/plain": [
       "<Figure size 432x288 with 2 Axes>"
      ]
     },
     "metadata": {
      "needs_background": "light"
     },
     "output_type": "display_data"
    }
   ],
   "source": [
    "import matplotlib.pyplot as plt\n",
    "import numpy\n",
    "from sklearn import metrics\n",
    "\n",
    "actual = numpy.random.binomial(1,.9,size = 1000)\n",
    "predicted = numpy.random.binomial(1,.9,size = 1000)\n",
    "\n",
    "confusion_matrix = metrics.confusion_matrix(y_train, out)\n",
    "\n",
    "cm_display = metrics.ConfusionMatrixDisplay(confusion_matrix = confusion_matrix, display_labels = [False, True])\n",
    "\n",
    "cm_display.plot()\n",
    "plt.show()"
   ]
  },
  {
   "cell_type": "code",
   "execution_count": 132,
   "metadata": {},
   "outputs": [
    {
     "data": {
      "image/png": "[encoded data removed]",
      "text/plain": [
       "<Figure size 360x360 with 1 Axes>"
      ]
     },
     "metadata": {
      "needs_background": "light"
     },
     "output_type": "display_data"
    }
   ],
   "source": [
    "from sklearn.metrics import roc_curve\n",
    "from sklearn.metrics import RocCurveDisplay\n",
    "def plot_sklearn_roc_curve(y_real, y_pred):\n",
    "    fpr, tpr, _ = roc_curve(y_real, y_pred)\n",
    "    roc_display = RocCurveDisplay(fpr=fpr, tpr=tpr).plot()\n",
    "    roc_display.figure_.set_size_inches(5,5)\n",
    "    plt.plot([0, 1], [0, 1], color = 'g')\n",
    "plot_sklearn_roc_curve(y_train, out)"
   ]
  },
  {
   "cell_type": "code",
   "execution_count": null,
   "metadata": {},
   "outputs": [],
   "source": []
  },
  {
   "cell_type": "code",
   "execution_count": null,
   "metadata": {},
   "outputs": [],
   "source": []
  },
  {
   "cell_type": "code",
   "execution_count": 3,
   "metadata": {},
   "outputs": [],
   "source": []
  },
  {
   "cell_type": "code",
   "execution_count": 170,
   "metadata": {},
   "outputs": [],
   "source": []
  },
  {
   "cell_type": "code",
   "execution_count": 171,
   "metadata": {},
   "outputs": [],
   "source": []
  },
  {
   "cell_type": "code",
   "execution_count": null,
   "metadata": {},
   "outputs": [],
   "source": []
  },
  {
   "cell_type": "code",
   "execution_count": null,
   "metadata": {},
   "outputs": [],
   "source": []
  }
 ],
 "metadata": {
  "kernelspec": {
   "display_name": "Python 3",
   "language": "python",
   "name": "python3"
  },
  "language_info": {
   "codemirror_mode": {
    "name": "ipython",
    "version": 3
   },
   "file_extension": ".py",
   "mimetype": "text/x-python",
   "name": "python",
   "nbconvert_exporter": "python",
   "pygments_lexer": "ipython3",
   "version": "3.9.2"
  }
 },
 "nbformat": 4,
 "nbformat_minor": 1
}
