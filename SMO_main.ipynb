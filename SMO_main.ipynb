{
 "cells": [
  {
   "cell_type": "markdown",
   "metadata": {},
   "source": [
    "## SVM and SMO"
   ]
  },
  {
   "cell_type": "code",
   "execution_count": 98,
   "metadata": {},
   "outputs": [],
   "source": [
    "import numpy as np\n",
    "\n",
    "import matplotlib.pyplot as plt\n",
    "%matplotlib inline\n",
    "\n",
    "from sklearn.preprocessing import StandardScaler"
   ]
  },
  {
   "cell_type": "code",
   "execution_count": 99,
   "metadata": {},
   "outputs": [],
   "source": [
    "class SMOModel:\n",
    "    \"\"\"Container object for the model used for sequential minimal optimization.\"\"\"\n",
    "    \n",
    "    def __init__(self, X, y, C, kernel, alphas, b, errors):\n",
    "        self.X = X               # training data vector\n",
    "        self.y = y               # class label vector\n",
    "        self.C = C               # regularization parameter\n",
    "        self.kernel = kernel     # kernel function\n",
    "        self.alphas = alphas     # lagrange multiplier vector\n",
    "        self.b = b               # scalar bias term\n",
    "        self.errors = errors     # error cache\n",
    "        self._obj = []           # record of objective function value\n",
    "        self.m = len(self.X)     # store size of training set"
   ]
  },
  {
   "cell_type": "code",
   "execution_count": 100,
   "metadata": {},
   "outputs": [],
   "source": [
    "def linear_kernel(x, y, b=1):\n",
    "    \"\"\"Returns the linear combination of arrays `x` and `y` with\n",
    "    the optional bias term `b` (set to 1 by default).\"\"\"\n",
    "    return x @ y.T + b # Note the @ operator for matrix multiplication\n",
    "\n",
    "\n",
    "def gaussian_kernel(x, y, sigma=1):\n",
    "    \"\"\"Returns the gaussian similarity of arrays `x` and `y` with\n",
    "    kernel width parameter `sigma` (set to 1 by default).\"\"\"\n",
    "    \n",
    "    if np.ndim(x) == 1 and np.ndim(y) == 1:                                             # for vector-vector\n",
    "        result = np.exp(- (np.linalg.norm(x - y, 2)) ** 2 / (2 * sigma ** 2))\n",
    "    elif (np.ndim(x) > 1 and np.ndim(y) == 1) or (np.ndim(x) == 1 and np.ndim(y) > 1):  # for matrix-vector\n",
    "        result = np.exp(- (np.linalg.norm(x - y, 2, axis=1) ** 2) / (2 * sigma ** 2))\n",
    "    elif np.ndim(x) > 1 and np.ndim(y) > 1:                                             # for matrix-matrix\n",
    "        result = np.exp(- (np.linalg.norm(x[:, np.newaxis] - y[np.newaxis, :], 2, axis=2) ** 2) / (2 * sigma ** 2))\n",
    "    return result"
   ]
  },
  {
   "cell_type": "markdown",
   "metadata": {},
   "source": [
    "Let us now define objective function programatically\n",
    "$$W({\\alpha _2}) = \\sum\\limits_{i = 1}^m {{\\alpha _i}}  - \\frac{1}{2}\\sum\\limits_{i,j = 1}^m {{y^{(i)}}{y^{(j)}}{\\alpha _i}{\\alpha _j}{K_{ij}}} $$"
   ]
  },
  {
   "cell_type": "code",
   "execution_count": 101,
   "metadata": {},
   "outputs": [],
   "source": [
    "# Objective function to optimize\n",
    "\n",
    "def objective_function(alphas, target, kernel, X_train):\n",
    "    \"\"\"Returns the SVM objective function based in the input model defined by:\n",
    "    `alphas`: vector of Lagrange multipliers\n",
    "    `target`: vector of class labels (-1 or 1) for training data\n",
    "    `kernel`: kernel function\n",
    "    `X_train`: training data for model.\"\"\"\n",
    "    \n",
    "    return np.sum(alphas) - 0.5 * np.sum((target[:, None] * target[None, :]) * kernel(X_train, X_train) * (alphas[:, None] * alphas[None, :]))"
   ]
  },
  {
   "cell_type": "markdown",
   "metadata": {},
   "source": [
    "Also define the decision function programatically\n",
    "$$f(x) = \\sum\\limits_{i = 1}^n {{\\alpha _i}{y^{(i)}}K({x^{(i)}},x)}  - b$$"
   ]
  },
  {
   "cell_type": "code",
   "execution_count": 102,
   "metadata": {},
   "outputs": [],
   "source": [
    "# Decision function\n",
    "\n",
    "def decision_function(alphas, target, kernel, X_train, x_test, b):\n",
    "    \"\"\"Applies the SVM decision function to the input feature vectors in `x_test`.\"\"\"\n",
    "    \n",
    "    result = (alphas * target) @ kernel(X_train, x_test) - b\n",
    "    return result"
   ]
  },
  {
   "cell_type": "markdown",
   "metadata": {},
   "source": [
    "`take_step()` carries out the meat of the calculations and computes the two new α values, a new threshold b, and updates the error cache.\n",
    "\n",
    "Actually this is coordinate ascend Algorithm"
   ]
  },
  {
   "cell_type": "code",
   "execution_count": 103,
   "metadata": {},
   "outputs": [],
   "source": [
    "def take_step(i1, i2, model):\n",
    "    \n",
    "    # Skip if chosen alphas are the same\n",
    "    if i1 == i2:\n",
    "        return 0, model\n",
    "    \n",
    "    alph1 = model.alphas[i1]\n",
    "    alph2 = model.alphas[i2]\n",
    "    y1 = model.y[i1]\n",
    "    y2 = model.y[i2]\n",
    "    E1 = model.errors[i1]\n",
    "    E2 = model.errors[i2]\n",
    "    s = y1 * y2\n",
    "    \n",
    "    # Compute L & H, the bounds on new possible alpha values\n",
    "    if (y1 != y2):\n",
    "        L = max(0, alph2 - alph1)\n",
    "        H = min(model.C, model.C + alph2 - alph1)\n",
    "    elif (y1 == y2):\n",
    "        L = max(0, alph1 + alph2 - model.C)\n",
    "        H = min(model.C, alph1 + alph2)\n",
    "    if (L == H):\n",
    "        return 0, model\n",
    "\n",
    "    # Compute kernel & 2nd derivative eta\n",
    "    k11 = model.kernel(model.X[i1], model.X[i1])\n",
    "    k12 = model.kernel(model.X[i1], model.X[i2])\n",
    "    k22 = model.kernel(model.X[i2], model.X[i2])\n",
    "    eta = 2 * k12 - k11 - k22\n",
    "    \n",
    "    # Compute new alpha 2 (a2) if eta is negative\n",
    "    if (eta < 0):\n",
    "        a2 = alph2 - y2 * (E1 - E2) / eta\n",
    "        # Clip a2 based on bounds L & H\n",
    "        if L < a2 < H:\n",
    "            a2 = a2\n",
    "        elif (a2 <= L):\n",
    "            a2 = L\n",
    "        elif (a2 >= H):\n",
    "            a2 = H\n",
    "            \n",
    "    # If eta is non-negative, move new a2 to bound with greater objective function value\n",
    "    else:\n",
    "        alphas_adj = model.alphas.copy()\n",
    "        alphas_adj[i2] = L\n",
    "        # objective function output with a2 = L\n",
    "        Lobj = objective_function(alphas_adj, model.y, model.kernel, model.X) \n",
    "        alphas_adj[i2] = H\n",
    "        # objective function output with a2 = H\n",
    "        Hobj = objective_function(alphas_adj, model.y, model.kernel, model.X)\n",
    "        if Lobj > (Hobj + eps):\n",
    "            a2 = L\n",
    "        elif Lobj < (Hobj - eps):\n",
    "            a2 = H\n",
    "        else:\n",
    "            a2 = alph2\n",
    "            \n",
    "    # Push a2 to 0 or C if very close\n",
    "    if a2 < 1e-8:\n",
    "        a2 = 0.0\n",
    "    elif a2 > (model.C - 1e-8):\n",
    "        a2 = model.C\n",
    "    \n",
    "    # If examples can't be optimized within epsilon (eps), skip this pair\n",
    "    if (np.abs(a2 - alph2) < eps * (a2 + alph2 + eps)):\n",
    "        return 0, model\n",
    "    \n",
    "    # Calculate new alpha 1 (a1)\n",
    "    a1 = alph1 + s * (alph2 - a2)\n",
    "    \n",
    "    # Update threshold b to reflect newly calculated alphas\n",
    "    # Calculate both possible thresholds\n",
    "    b1 = E1 + y1 * (a1 - alph1) * k11 + y2 * (a2 - alph2) * k12 + model.b\n",
    "    b2 = E2 + y1 * (a1 - alph1) * k12 + y2 * (a2 - alph2) * k22 + model.b\n",
    "    \n",
    "    # Set new threshold based on if a1 or a2 is bound by L and/or H\n",
    "    if 0 < a1 and a1 < C:\n",
    "        b_new = b1\n",
    "    elif 0 < a2 and a2 < C:\n",
    "        b_new = b2\n",
    "    # Average thresholds if both are bound\n",
    "    else:\n",
    "        b_new = (b1 + b2) * 0.5\n",
    "\n",
    "    # Update model object with new alphas & threshold\n",
    "    model.alphas[i1] = a1\n",
    "    model.alphas[i2] = a2\n",
    "    \n",
    "    # Update error cache\n",
    "    # Error cache for optimized alphas is set to 0 if they're unbound\n",
    "    for index, alph in zip([i1, i2], [a1, a2]):\n",
    "        if 0.0 < alph < model.C:\n",
    "            model.errors[index] = 0.0\n",
    "    \n",
    "    # Set non-optimized errors based on above equations\n",
    "    non_opt = [n for n in range(model.m) if (n != i1 and n != i2)]\n",
    "    model.errors[non_opt] = model.errors[non_opt] + \\\n",
    "                            y1*(a1 - alph1)*model.kernel(model.X[i1], model.X[non_opt]) + \\\n",
    "                            y2*(a2 - alph2)*model.kernel(model.X[i2], model.X[non_opt]) + model.b - b_new\n",
    "    \n",
    "    # Update model threshold\n",
    "    model.b = b_new\n",
    "    \n",
    "    return 1, model"
   ]
  },
  {
   "cell_type": "markdown",
   "metadata": {},
   "source": [
    "Then `examine_example()` implements the second choice heuristic to choose the second α to optimize, and passes the index of both α values to `take_step()`."
   ]
  },
  {
   "cell_type": "code",
   "execution_count": 104,
   "metadata": {},
   "outputs": [],
   "source": [
    "#step_result --- both alphas are same or bound same or objective function is not converging then neglect that pair of alphas\n",
    "def examine_example(i2, model):\n",
    "    \n",
    "    y2 = model.y[i2]\n",
    "    alph2 = model.alphas[i2]\n",
    "    E2 = model.errors[i2]\n",
    "    r2 = E2 * y2\n",
    "\n",
    "    # Proceed if error is within specified tolerance (tol)\n",
    "    if ((r2 < -tol and alph2 < model.C) or (r2 > tol and alph2 > 0)):\n",
    "        \n",
    "        if len(model.alphas[(model.alphas != 0) & (model.alphas != model.C)]) > 1:\n",
    "            # Use 2nd choice heuristic is choose max difference in error\n",
    "            if model.errors[i2] > 0:\n",
    "                i1 = np.argmin(model.errors)\n",
    "            elif model.errors[i2] <= 0:\n",
    "                i1 = np.argmax(model.errors)\n",
    "            step_result, model = take_step(i1, i2, model)\n",
    "            if step_result:\n",
    "                return 1, model\n",
    "            \n",
    "        # Loop through non-zero and non-C alphas, starting at a random point\n",
    "        for i1 in np.roll(np.where((model.alphas != 0) & (model.alphas != model.C))[0],\n",
    "                          np.random.choice(np.arange(model.m))):\n",
    "            step_result, model = take_step(i1, i2, model)\n",
    "            if step_result:\n",
    "                return 1, model\n",
    "        \n",
    "        # loop through all alphas, starting at a random point\n",
    "        for i1 in np.roll(np.arange(model.m), np.random.choice(np.arange(model.m))):\n",
    "            step_result, model = take_step(i1, i2, model)\n",
    "            if step_result:\n",
    "                return 1, model\n",
    "    \n",
    "    return 0, model"
   ]
  },
  {
   "cell_type": "markdown",
   "metadata": {},
   "source": [
    "The `train()` function implements selection of the first α to optimize via the first choice heuristic and passes this value to `examine_example()`.The `train()` function uses a while loop to iterate through the α values in a few different ways until no more optimizations can be made, at which point it returns the optimized α vector (embedded in an SMOModel object)."
   ]
  },
  {
   "cell_type": "code",
   "execution_count": 105,
   "metadata": {},
   "outputs": [],
   "source": [
    "def train(model):\n",
    "    \n",
    "    numChanged = 0\n",
    "    examineAll = 1\n",
    "\n",
    "    while(numChanged > 0) or (examineAll):\n",
    "        numChanged = 0\n",
    "        if examineAll:\n",
    "            # loop over all training examples\n",
    "            for i in range(model.alphas.shape[0]):\n",
    "                examine_result, model= examine_example(i, model)\n",
    "                numChanged += examine_result\n",
    "                if examine_result:\n",
    "                    obj_result = objective_function(model.alphas, model.y, model.kernel, model.X)\n",
    "                    model._obj.append(obj_result)\n",
    "                            \n",
    "        else:\n",
    "            # loop over examples where alphas are not already at their limits\n",
    "            for i in np.where((model.alphas != 0) & (model.alphas != model.C))[0]:\n",
    "                examine_result, model = examine_example(i, model)\n",
    "                numChanged += examine_result\n",
    "                if examine_result:\n",
    "                    obj_result = objective_function(model.alphas, model.y, model.kernel, model.X)\n",
    "                    model._obj.append(obj_result)\n",
    "        if examineAll == 1:\n",
    "            examineAll = 0\n",
    "        elif numChanged == 0:\n",
    "            examineAll = 1"
   ]
  },
  {
   "cell_type": "code",
   "execution_count": 106,
   "metadata": {},
   "outputs": [
    {
     "data": {
      "application/javascript": [
       "\n",
       "        if (window._pyforest_update_imports_cell) { window._pyforest_update_imports_cell('import pandas as pd\\nimport seaborn as sns'); }\n",
       "    "
      ],
      "text/plain": [
       "<IPython.core.display.Javascript object>"
      ]
     },
     "metadata": {},
     "output_type": "display_data"
    }
   ],
   "source": [
    "train_df= pd.read_csv('train.csv')"
   ]
  },
  {
   "cell_type": "code",
   "execution_count": 107,
   "metadata": {},
   "outputs": [
    {
     "data": {
      "text/html": [
       "<div>\n",
       "<style scoped>\n",
       "    .dataframe tbody tr th:only-of-type {\n",
       "        vertical-align: middle;\n",
       "    }\n",
       "\n",
       "    .dataframe tbody tr th {\n",
       "        vertical-align: top;\n",
       "    }\n",
       "\n",
       "    .dataframe thead th {\n",
       "        text-align: right;\n",
       "    }\n",
       "</style>\n",
       "<table border=\"1\" class=\"dataframe\">\n",
       "  <thead>\n",
       "    <tr style=\"text-align: right;\">\n",
       "      <th></th>\n",
       "      <th>PassengerId</th>\n",
       "      <th>Survived</th>\n",
       "      <th>Pclass</th>\n",
       "      <th>Name</th>\n",
       "      <th>Sex</th>\n",
       "      <th>Age</th>\n",
       "      <th>SibSp</th>\n",
       "      <th>Parch</th>\n",
       "      <th>Ticket</th>\n",
       "      <th>Fare</th>\n",
       "      <th>Cabin</th>\n",
       "      <th>Embarked</th>\n",
       "    </tr>\n",
       "  </thead>\n",
       "  <tbody>\n",
       "    <tr>\n",
       "      <th>0</th>\n",
       "      <td>1</td>\n",
       "      <td>0</td>\n",
       "      <td>3</td>\n",
       "      <td>Braund, Mr. Owen Harris</td>\n",
       "      <td>male</td>\n",
       "      <td>22.0</td>\n",
       "      <td>1</td>\n",
       "      <td>0</td>\n",
       "      <td>A/5 21171</td>\n",
       "      <td>7.2500</td>\n",
       "      <td>NaN</td>\n",
       "      <td>S</td>\n",
       "    </tr>\n",
       "    <tr>\n",
       "      <th>1</th>\n",
       "      <td>2</td>\n",
       "      <td>1</td>\n",
       "      <td>1</td>\n",
       "      <td>Cumings, Mrs. John Bradley (Florence Briggs Th...</td>\n",
       "      <td>female</td>\n",
       "      <td>38.0</td>\n",
       "      <td>1</td>\n",
       "      <td>0</td>\n",
       "      <td>PC 17599</td>\n",
       "      <td>71.2833</td>\n",
       "      <td>C85</td>\n",
       "      <td>C</td>\n",
       "    </tr>\n",
       "    <tr>\n",
       "      <th>2</th>\n",
       "      <td>3</td>\n",
       "      <td>1</td>\n",
       "      <td>3</td>\n",
       "      <td>Heikkinen, Miss. Laina</td>\n",
       "      <td>female</td>\n",
       "      <td>26.0</td>\n",
       "      <td>0</td>\n",
       "      <td>0</td>\n",
       "      <td>STON/O2. 3101282</td>\n",
       "      <td>7.9250</td>\n",
       "      <td>NaN</td>\n",
       "      <td>S</td>\n",
       "    </tr>\n",
       "    <tr>\n",
       "      <th>3</th>\n",
       "      <td>4</td>\n",
       "      <td>1</td>\n",
       "      <td>1</td>\n",
       "      <td>Futrelle, Mrs. Jacques Heath (Lily May Peel)</td>\n",
       "      <td>female</td>\n",
       "      <td>35.0</td>\n",
       "      <td>1</td>\n",
       "      <td>0</td>\n",
       "      <td>113803</td>\n",
       "      <td>53.1000</td>\n",
       "      <td>C123</td>\n",
       "      <td>S</td>\n",
       "    </tr>\n",
       "    <tr>\n",
       "      <th>4</th>\n",
       "      <td>5</td>\n",
       "      <td>0</td>\n",
       "      <td>3</td>\n",
       "      <td>Allen, Mr. William Henry</td>\n",
       "      <td>male</td>\n",
       "      <td>35.0</td>\n",
       "      <td>0</td>\n",
       "      <td>0</td>\n",
       "      <td>373450</td>\n",
       "      <td>8.0500</td>\n",
       "      <td>NaN</td>\n",
       "      <td>S</td>\n",
       "    </tr>\n",
       "  </tbody>\n",
       "</table>\n",
       "</div>"
      ],
      "text/plain": [
       "   PassengerId  Survived  Pclass  \\\n",
       "0            1         0       3   \n",
       "1            2         1       1   \n",
       "2            3         1       3   \n",
       "3            4         1       1   \n",
       "4            5         0       3   \n",
       "\n",
       "                                                Name     Sex   Age  SibSp  \\\n",
       "0                            Braund, Mr. Owen Harris    male  22.0      1   \n",
       "1  Cumings, Mrs. John Bradley (Florence Briggs Th...  female  38.0      1   \n",
       "2                             Heikkinen, Miss. Laina  female  26.0      0   \n",
       "3       Futrelle, Mrs. Jacques Heath (Lily May Peel)  female  35.0      1   \n",
       "4                           Allen, Mr. William Henry    male  35.0      0   \n",
       "\n",
       "   Parch            Ticket     Fare Cabin Embarked  \n",
       "0      0         A/5 21171   7.2500   NaN        S  \n",
       "1      0          PC 17599  71.2833   C85        C  \n",
       "2      0  STON/O2. 3101282   7.9250   NaN        S  \n",
       "3      0            113803  53.1000  C123        S  \n",
       "4      0            373450   8.0500   NaN        S  "
      ]
     },
     "execution_count": 107,
     "metadata": {},
     "output_type": "execute_result"
    }
   ],
   "source": [
    "train_df.head()\n"
   ]
  },
  {
   "cell_type": "code",
   "execution_count": 108,
   "metadata": {},
   "outputs": [
    {
     "name": "stdout",
     "output_type": "stream",
     "text": [
      "<class 'pandas.core.frame.DataFrame'>\n",
      "RangeIndex: 891 entries, 0 to 890\n",
      "Data columns (total 12 columns):\n",
      " #   Column       Non-Null Count  Dtype  \n",
      "---  ------       --------------  -----  \n",
      " 0   PassengerId  891 non-null    int64  \n",
      " 1   Survived     891 non-null    int64  \n",
      " 2   Pclass       891 non-null    int64  \n",
      " 3   Name         891 non-null    object \n",
      " 4   Sex          891 non-null    object \n",
      " 5   Age          714 non-null    float64\n",
      " 6   SibSp        891 non-null    int64  \n",
      " 7   Parch        891 non-null    int64  \n",
      " 8   Ticket       891 non-null    object \n",
      " 9   Fare         891 non-null    float64\n",
      " 10  Cabin        204 non-null    object \n",
      " 11  Embarked     889 non-null    object \n",
      "dtypes: float64(2), int64(5), object(5)\n",
      "memory usage: 83.7+ KB\n"
     ]
    }
   ],
   "source": [
    "train_df.info()"
   ]
  },
  {
   "cell_type": "code",
   "execution_count": 109,
   "metadata": {},
   "outputs": [
    {
     "data": {
      "application/javascript": [
       "\n",
       "        if (window._pyforest_update_imports_cell) { window._pyforest_update_imports_cell('import pandas as pd\\nimport seaborn as sns'); }\n",
       "    "
      ],
      "text/plain": [
       "<IPython.core.display.Javascript object>"
      ]
     },
     "metadata": {},
     "output_type": "display_data"
    },
    {
     "data": {
      "text/plain": [
       "<AxesSubplot:xlabel='Survived', ylabel='count'>"
      ]
     },
     "execution_count": 109,
     "metadata": {},
     "output_type": "execute_result"
    },
    {
     "data": {
      "image/png": "[encoded data removed]",
      "text/plain": [
       "<Figure size 432x288 with 1 Axes>"
      ]
     },
     "metadata": {
      "needs_background": "light"
     },
     "output_type": "display_data"
    }
   ],
   "source": [
    "train_df['Survived'].value_counts()\n",
    "sns.countplot(data=train_df, x='Survived')"
   ]
  },
  {
   "cell_type": "code",
   "execution_count": 110,
   "metadata": {},
   "outputs": [
    {
     "data": {
      "application/javascript": [
       "\n",
       "        if (window._pyforest_update_imports_cell) { window._pyforest_update_imports_cell('import pandas as pd\\nimport seaborn as sns'); }\n",
       "    "
      ],
      "text/plain": [
       "<IPython.core.display.Javascript object>"
      ]
     },
     "metadata": {},
     "output_type": "display_data"
    },
    {
     "data": {
      "text/plain": [
       "<AxesSubplot:>"
      ]
     },
     "execution_count": 110,
     "metadata": {},
     "output_type": "execute_result"
    },
    {
     "data": {
      "image/png": "[encoded data removed]",
      "text/plain": [
       "<Figure size 432x288 with 2 Axes>"
      ]
     },
     "metadata": {
      "needs_background": "light"
     },
     "output_type": "display_data"
    }
   ],
   "source": [
    "sns.heatmap(train_df.corr(), annot=True)"
   ]
  },
  {
   "cell_type": "code",
   "execution_count": 111,
   "metadata": {},
   "outputs": [],
   "source": [
    "train_df[\"Age\"].fillna(train_df[\"Age\"].mean(), inplace = True)\n",
    "train_df['Sex']=train_df['Sex'].replace('male', 0)\n",
    "train_df['Sex']=train_df['Sex'].replace('female', 1)"
   ]
  },
  {
   "cell_type": "code",
   "execution_count": 112,
   "metadata": {},
   "outputs": [],
   "source": [
    "train_df.drop(['Name', 'PassengerId', 'Fare', 'Ticket','Embarked', 'Cabin'], axis = 1, inplace = True)"
   ]
  },
  {
   "cell_type": "code",
   "execution_count": 113,
   "metadata": {},
   "outputs": [],
   "source": [
    "X= train_df.drop('Survived', axis=1)\n",
    "y= train_df['Survived']"
   ]
  },
  {
   "cell_type": "code",
   "execution_count": 114,
   "metadata": {},
   "outputs": [
    {
     "data": {
      "text/plain": [
       "891"
      ]
     },
     "execution_count": 114,
     "metadata": {},
     "output_type": "execute_result"
    }
   ],
   "source": [
    "#spliting the dataset to work on train and test\n",
    "\n",
    "\n",
    "from sklearn.model_selection import train_test_split\n",
    "\n",
    "X_train, X_test, y_train, y_test = train_test_split(X, y, test_size=0.3, random_state=101)\n",
    "len(X)"
   ]
  },
  {
   "cell_type": "code",
   "execution_count": 115,
   "metadata": {},
   "outputs": [
    {
     "data": {
      "text/plain": [
       "StandardScaler()"
      ]
     },
     "execution_count": 115,
     "metadata": {},
     "output_type": "execute_result"
    }
   ],
   "source": [
    "#feature scaling\n",
    "\n",
    "\n",
    "from sklearn.preprocessing import StandardScaler\n",
    "\n",
    "scaler= StandardScaler()\n",
    "scaler.fit(X_train)"
   ]
  },
  {
   "cell_type": "code",
   "execution_count": 116,
   "metadata": {},
   "outputs": [],
   "source": [
    "scaled_X_train= scaler.transform(X_train)\n",
    "scaled_X_test= scaler.transform(X_test)"
   ]
  },
  {
   "cell_type": "code",
   "execution_count": 117,
   "metadata": {},
   "outputs": [],
   "source": [
    "y_train=y_train.values"
   ]
  },
  {
   "cell_type": "code",
   "execution_count": 118,
   "metadata": {},
   "outputs": [
    {
     "data": {
      "text/plain": [
       "numpy.ndarray"
      ]
     },
     "execution_count": 118,
     "metadata": {},
     "output_type": "execute_result"
    }
   ],
   "source": [
    "type(y_train)"
   ]
  },
  {
   "cell_type": "code",
   "execution_count": 119,
   "metadata": {},
   "outputs": [],
   "source": [
    "y_train[y_train == 0] = -1  # Change labels from [0,1] --> [-1,1]"
   ]
  },
  {
   "cell_type": "markdown",
   "metadata": {},
   "source": [
    "##### Linear kernel"
   ]
  },
  {
   "cell_type": "code",
   "execution_count": 120,
   "metadata": {},
   "outputs": [
    {
     "name": "stdout",
     "output_type": "stream",
     "text": [
      "Wall time: 19.9 ms\n"
     ]
    }
   ],
   "source": [
    "%%time\n",
    "# Set model parameters and initial values\n",
    "\n",
    "C = 1000.0\n",
    "m = len(scaled_X_train)\n",
    "initial_alphas = np.zeros(m)\n",
    "initial_b = 0.0\n",
    "\n",
    "# Set tolerances\n",
    "tol = 0.01 # error tolerance\n",
    "eps = 0.01 # alpha tolerance\n",
    "\n",
    "# Instantiate model\n",
    "model = SMOModel(scaled_X_train, y_train, C, linear_kernel,\n",
    "                 initial_alphas, initial_b, np.zeros(m))\n",
    "\n",
    "# Initialize error cache\n",
    "initial_error = decision_function(model.alphas, model.y, model.kernel,\n",
    "                                  model.X, model.X, model.b) - model.y\n",
    "model.errors = initial_error"
   ]
  },
  {
   "cell_type": "code",
   "execution_count": 121,
   "metadata": {},
   "outputs": [
    {
     "name": "stdout",
     "output_type": "stream",
     "text": [
      "Wall time: 5min 41s\n"
     ]
    }
   ],
   "source": [
    "%%time\n",
    "output = train(model)"
   ]
  },
  {
   "cell_type": "code",
   "execution_count": 122,
   "metadata": {},
   "outputs": [
    {
     "data": {
      "text/plain": [
       "array([ 3.55604813e+02, -7.81478780e+02,  3.72301662e+02, -3.12619287e+02,\n",
       "        1.68904936e+02,  6.56873266e+02, -5.26493716e+02,  9.81014944e+02,\n",
       "        2.91722457e+01, -1.78185137e+02, -5.26493716e+02,  1.06813672e+03,\n",
       "       -4.64669899e+02,  2.78903465e+02, -4.25514190e+02, -5.23653933e+02,\n",
       "       -5.68494577e+02, -1.24778516e+02, -4.76226706e+02,  1.63661663e+02,\n",
       "       -6.16658790e+02, -2.76821399e+02, -1.52664184e+02,  3.06385366e+02,\n",
       "       -4.70448302e+02,  3.31320540e+01, -8.09828733e+02, -5.63612386e+02,\n",
       "        8.58938698e+02, -4.59353940e+02,  5.37914338e+02,  4.64106242e+02,\n",
       "       -5.70647576e+02, -6.07740645e+02, -1.37231121e+02, -6.19904098e+02,\n",
       "       -4.64465135e+02,  1.00531852e+02, -5.26493716e+02,  1.09950352e+03,\n",
       "       -5.87555425e+02, -7.28206389e+02, -6.40770458e+02,  1.00106966e+03,\n",
       "       -7.89771011e+02, -6.03220114e+02, -5.28190748e+02,  4.45445680e+02,\n",
       "       -5.61611431e+02,  9.31751418e+02,  2.69611371e+02, -2.51331421e+02,\n",
       "        6.11428708e+02,  3.49904320e+02,  3.34389986e+02, -4.76226706e+02,\n",
       "       -5.22715805e+02,  2.65765221e+02,  2.72370764e+02,  8.09403971e+02,\n",
       "       -3.02565953e+02,  3.39531013e+02, -1.70641277e+00, -3.48339999e+02,\n",
       "        3.25005148e+03, -5.35407888e+02, -6.99587891e+02, -5.81384311e+02,\n",
       "       -4.53256502e+02,  2.08262629e+02,  1.03859986e+02, -1.39888860e+03,\n",
       "       -7.32160483e+02, -4.72198707e+02, -3.10587423e+02, -1.19544612e+02,\n",
       "       -4.27726220e+02, -6.87156777e+02, -5.21427830e+02,  1.91209217e+03,\n",
       "       -8.05506080e+01, -5.37356776e+02,  7.69139336e+02, -1.18416564e+03,\n",
       "        1.48511848e+02, -3.71794056e+02, -1.07373966e+03, -1.56107944e+02,\n",
       "       -2.84777368e+02, -3.43398712e+02, -1.50889508e+03,  1.85216295e+01,\n",
       "        5.20731935e+02, -2.90575397e+02, -7.16997377e+00, -5.38301428e+02,\n",
       "       -4.78351244e+02, -8.45076954e+02, -5.74717518e+02, -3.99390354e+02,\n",
       "       -5.41239475e+02, -4.83581436e+02, -2.16089937e+02,  1.28651529e+03,\n",
       "       -5.21807628e+02, -1.47208351e+03, -5.26493716e+02, -4.70448302e+02,\n",
       "       -1.03551845e+03, -3.60475421e+02,  6.24531079e+02, -1.92938515e+02,\n",
       "       -1.75734332e+02, -4.89533917e+02,  8.26660512e+02,  1.87812513e+02,\n",
       "       -4.82589294e+00,  6.19495228e+02, -2.40209869e+02, -1.10851044e+03,\n",
       "        4.68433145e+01,  3.24636721e+02,  1.08937944e+03,  1.85457434e+03,\n",
       "        4.27226950e+03, -6.10858069e+02,  4.11949515e+03, -7.15610515e+00,\n",
       "       -2.63350671e+02,  2.44823790e+02, -1.11850927e+03, -6.92783987e+02,\n",
       "       -5.26493716e+02, -2.46211054e+02, -6.70195022e+02, -6.82957900e+02,\n",
       "        4.62194338e+02, -4.64669899e+02, -7.70007699e+01, -6.26594029e+02,\n",
       "       -3.06814552e+02, -5.26493716e+02, -4.63723139e+02, -4.41373068e+02,\n",
       "       -3.08469791e+02,  3.14088947e+02, -5.26493716e+02, -5.26493716e+02,\n",
       "        3.85950830e+02, -2.91780244e+02, -5.19564730e+02, -5.26493716e+02,\n",
       "       -1.08086581e+03, -2.62888227e+02, -1.86163579e+03,  1.37421951e+02,\n",
       "       -1.68275805e+03, -5.26493716e+02, -4.93561916e+02, -3.22465904e+02,\n",
       "       -5.26493716e+02, -1.52294543e+03, -3.42175737e+02,  2.65022338e+02,\n",
       "       -8.95318867e+02, -5.78208421e+01, -2.34272902e+03,  5.07559977e+02,\n",
       "       -1.61096577e+03,  2.54327293e+02, -1.15972075e+02, -6.24935633e+02,\n",
       "       -1.11685456e+03, -5.26493716e+02,  9.38799584e+02, -4.69355995e+02,\n",
       "       -5.71404361e+02, -1.73270920e+03, -2.04475050e+03, -4.70448302e+02,\n",
       "       -5.26493716e+02, -2.91780244e+02, -1.69226071e+03,  1.08515694e+03,\n",
       "        4.57347134e+02, -8.36645990e+01,  1.17428594e+03, -3.65992965e+02,\n",
       "        7.47538099e+01, -1.12612088e+03,  1.60967416e+02, -4.06767309e+02,\n",
       "       -5.26493716e+02,  1.74033306e+02, -5.26493716e+02, -4.01935014e+02,\n",
       "        5.83796165e+02, -7.30893686e+02, -6.75073343e+02, -6.68778765e+02,\n",
       "        3.87197549e+02, -5.96454507e+02, -4.31759208e+02, -7.34758370e+02,\n",
       "       -5.22453932e+02, -5.86016369e+02,  2.20048657e+02, -8.78731659e+02,\n",
       "       -1.87245159e+02, -9.69373840e+01, -1.01179246e+03,  5.64561223e+02,\n",
       "        1.65581695e+03, -2.66371941e+02, -1.32980522e+02, -1.63526656e+02,\n",
       "       -5.57255381e+02,  6.98535530e+02, -8.34442023e+02,  5.51271102e+01,\n",
       "        6.46248750e+02, -5.93545177e+02, -1.32489903e+03, -1.38173124e+03,\n",
       "       -8.75453264e+01,  4.45764682e+02,  1.98152028e+02, -5.46084704e+01,\n",
       "       -8.69495038e+02,  4.09798503e+02,  1.42413184e+03, -5.39789142e+02,\n",
       "       -5.34010739e+02, -4.89054193e+02,  2.36502698e+02, -7.51602976e+02,\n",
       "        4.08976314e+02,  1.29245115e+02,  2.82313885e+02,  3.90970401e+02,\n",
       "        4.06729149e+02, -9.62037235e+02, -5.16800127e+02, -5.26493716e+02,\n",
       "       -1.43562759e+03, -6.34086226e+01,  2.84134560e+02, -4.04112687e+02,\n",
       "       -5.51336107e+02, -8.14387958e+02,  1.65641076e+02, -1.32550884e+02,\n",
       "        7.47494893e+02, -3.61602851e+02, -5.16279893e+02,  2.57523285e+03,\n",
       "       -2.31314116e+02,  1.18034428e+03,  1.41963248e+03,  4.93994760e+02,\n",
       "       -1.16705839e+02,  1.73169884e+02, -4.91214015e+02, -4.64669899e+02,\n",
       "        4.43646734e+02,  1.67391481e+02,  5.07209170e+02, -5.45573053e+02,\n",
       "       -4.77281186e+02, -3.11705000e+02, -6.68942688e+02, -1.00694674e+03,\n",
       "        2.78759266e+02, -1.73580895e+03,  6.93646703e+02, -5.25915653e+02,\n",
       "       -5.39789142e+02, -2.06975608e+02,  9.80987866e+02, -4.82670787e+02,\n",
       "       -6.49350353e+02, -4.68473221e+02, -1.83139008e+02, -5.78877857e+02,\n",
       "       -1.87244095e+03, -5.83465396e+02, -2.63350671e+02, -4.33831124e+02,\n",
       "        1.89859432e+02, -2.48144194e+03, -5.24471852e+02,  3.42477134e+02,\n",
       "       -5.57209430e+02, -4.53113092e+02,  8.06724316e+02,  2.30866499e+02,\n",
       "        1.37856338e+02,  2.36292988e+02, -5.03425535e+02,  1.70421360e+02,\n",
       "       -3.40926489e+02, -1.97449380e+02, -2.71986490e+02, -5.36166476e+02,\n",
       "        3.80729959e+02, -4.81699891e+02, -2.60053014e+01,  2.05391479e+02,\n",
       "       -6.39585822e+02, -7.16805910e+02,  1.97127281e+02, -5.22932323e+02,\n",
       "        1.86935839e+03, -6.54298734e+02, -3.60646329e+03, -4.64669899e+02,\n",
       "       -5.16890772e+02, -4.76226706e+02, -5.08036382e+02, -5.18699975e+02,\n",
       "        1.42221580e+03,  8.71430401e+01, -8.16744534e+02, -7.05460114e+02,\n",
       "       -3.85641525e+02, -4.82005109e+02,  7.90832199e+02, -3.00036867e+02,\n",
       "        4.79243373e+02, -5.52277796e+02,  5.82165336e+02,  5.10205587e+01,\n",
       "        1.23179041e+02, -1.51807746e+00,  1.64556913e+02,  4.77140067e+02,\n",
       "        5.27005271e+02, -1.50764608e+02,  5.37949570e+02,  1.77787274e+01,\n",
       "        4.61399187e+02, -3.64295945e+02, -1.92150018e+03,  1.11861809e+02,\n",
       "        3.81447705e+02, -2.04714548e+01,  2.11191127e+03, -3.37728131e+02,\n",
       "        6.47155471e+01, -7.14502999e+01, -4.57535362e+02, -5.02079287e+02,\n",
       "        6.37793518e+01, -3.55342680e+02,  5.26402909e+02, -3.86709340e+02,\n",
       "        1.68494804e+02, -1.43977590e+03,  9.24486761e+02, -5.47953569e+02,\n",
       "       -4.82005109e+02, -2.27277994e+03, -3.69452368e+02,  1.82222325e+03,\n",
       "       -7.13338225e+02, -2.56805951e+02, -5.06487741e+02, -5.10251463e+02,\n",
       "       -2.73616153e+02, -2.70417036e+02, -2.51751964e+02, -6.84784882e+02,\n",
       "       -5.26493716e+02, -5.05118722e+02,  9.27728316e+01,  1.00000000e+00,\n",
       "       -1.18776231e+03,  6.23296107e+01, -3.26450664e+02, -5.24342454e+02,\n",
       "       -5.84919591e+02, -1.45922835e+02, -4.51199094e+02, -2.75622959e+02,\n",
       "       -4.70947973e+02,  3.65603133e+02,  2.25175514e+02,  3.40281136e+02,\n",
       "        1.95962554e+03, -5.83632087e+02,  2.40311086e+02,  2.18170122e+02,\n",
       "       -5.32720385e+02, -2.58283095e+02,  4.73476660e+02,  2.71490737e+02,\n",
       "        1.02835853e+03, -5.07412756e+02, -1.09823103e+03,  4.43646734e+02,\n",
       "       -3.18656226e+02, -5.17783593e+02, -3.07273462e+02, -5.22453932e+02,\n",
       "        5.76112675e+01, -1.19427212e+03, -5.27115111e+02,  2.74139414e+02,\n",
       "        2.23893260e+00,  7.47538099e+01,  1.87941724e+02, -5.26493716e+02,\n",
       "        8.05322133e+01, -2.09428965e+02,  9.39080576e+02, -1.38442588e+02,\n",
       "        8.05322133e+01,  4.00833901e+01,  4.10380814e+02,  9.48593948e+02,\n",
       "       -4.80153281e+02,  3.28099408e+02,  6.99815290e+02, -1.81468163e+03,\n",
       "       -6.18367336e+02, -1.00721741e+03,  2.59383763e+03, -1.69794726e+03,\n",
       "        7.22638476e+01,  9.59119983e+01, -5.01840692e+02,  4.00894012e+02,\n",
       "        1.31614947e+03, -5.62902755e+02,  7.32213703e+02, -1.26311487e+03,\n",
       "       -4.99826659e+02, -3.95612725e+02, -3.15356301e+02,  2.07194642e+02,\n",
       "       -1.92598086e+02,  2.23221663e+02, -1.75937090e+02, -2.38063246e+02,\n",
       "       -1.20606298e+02, -5.82029204e+02, -5.33832328e+02,  3.69173153e+02,\n",
       "        1.20268737e+03, -2.62888227e+02,  4.01708573e+02, -1.48851256e+03,\n",
       "        4.89873960e+02,  2.17001044e+02,  1.99236979e+02,  7.47634477e+02,\n",
       "       -4.72551378e+02, -9.50956143e+02, -1.78947767e+03, -1.47530727e+01,\n",
       "       -5.70752282e+03,  2.06042967e+03, -2.79357476e+02, -3.07304266e+02,\n",
       "       -1.82068706e+03,  4.43646734e+02, -5.51843032e+02,  2.45272964e+03,\n",
       "       -3.33671220e+02,  2.47561434e+02, -6.09867404e+02, -4.01923345e+02,\n",
       "       -5.85370706e+02, -7.65398515e+02, -5.86016369e+02, -5.51345949e+02,\n",
       "        1.88328529e+02, -6.09129982e+02, -5.39789142e+02,  1.72779483e+02,\n",
       "       -5.34894994e+02,  5.94810402e+02, -1.77910516e+02, -2.39838022e+03,\n",
       "        1.27087372e+03,  1.44967094e+02,  5.42865859e+02,  1.60407212e+03,\n",
       "        5.16369909e+02, -6.95806031e+02,  5.42133282e+02, -8.75866408e+00,\n",
       "       -1.75024383e+01,  8.91745424e+02, -5.74459562e+02, -9.43901689e+01,\n",
       "       -6.22575659e+02, -2.01069905e+03, -5.26535499e+02, -4.64558698e+02,\n",
       "        3.60998682e+02, -7.32191820e+02, -2.99834199e+02,  1.08458636e+02,\n",
       "       -5.76403132e+02,  4.71926837e+02, -8.94024472e+02,  9.36440410e+01,\n",
       "       -5.28232335e+02, -7.78435935e+00,  2.84134456e+01,  2.13156263e+02,\n",
       "       -1.52854091e+02, -1.10327255e+03, -2.38060753e+02, -1.06974630e+02,\n",
       "       -5.71077226e+02, -1.29697998e+03, -5.44470250e+02,  7.86424538e+02,\n",
       "        1.00083758e+02,  9.23289695e+01,  1.18444948e+02,  6.81566881e+02,\n",
       "        9.87653186e+02, -6.03351578e+02, -4.82005109e+02, -5.73600075e+02,\n",
       "        4.10295762e+02,  2.37660277e+03, -2.33996815e+02, -6.40363840e+02,\n",
       "       -1.56522528e+03, -4.76226706e+02, -5.93358595e+02, -2.78591506e+02,\n",
       "       -1.76028959e+02, -5.83632087e+02, -1.70250556e+02,  8.81620318e+02,\n",
       "       -6.37835417e+02,  5.49912135e+01, -4.99340319e+02, -4.70448302e+02,\n",
       "       -5.26493716e+02, -1.12133320e+02, -4.87783512e+02, -4.93561916e+02,\n",
       "        1.37218471e+02,  1.15592142e+03, -8.23491025e+02,  1.20567811e+03,\n",
       "       -7.06071514e+02, -4.99340319e+02, -2.65284294e+02,  7.14012255e+02,\n",
       "       -3.78296283e+02, -6.80670795e+02,  9.24601631e+01,  6.11201795e+02,\n",
       "       -5.39863986e+02,  9.56849376e+02, -5.61412897e+02, -3.45138314e+02,\n",
       "        5.18712001e+02,  1.16003878e+03,  1.82887467e+02,  5.41055618e+02,\n",
       "        2.30209513e+02, -5.45420644e+02,  5.51040329e+02,  5.98055665e+02,\n",
       "       -5.09809609e+02,  6.37932284e+02,  2.78856114e+02, -1.27393857e+01,\n",
       "       -5.02890009e+02, -1.63448024e+03, -2.14519463e+02, -3.83589035e+02,\n",
       "       -4.96451117e+02, -4.47334689e+02,  9.15146467e+01, -3.20672260e+02,\n",
       "        3.83407279e+02, -2.44928125e+01, -5.16675529e+02, -2.74445034e+02,\n",
       "       -2.80223437e+02, -5.19564730e+02, -5.26493716e+02, -2.03744707e+02,\n",
       "       -1.53725373e+03, -5.09122929e+02, -4.30311181e+02,  3.16020049e+02,\n",
       "       -2.84006188e+02, -6.54895481e+02, -5.19940683e+02,  5.95833351e+02,\n",
       "        2.54408137e+02, -4.76226706e+02, -8.17414800e+02, -8.78399548e+02,\n",
       "       -9.35228324e+02, -5.95620185e+02, -6.21974653e+02, -6.50380738e+02,\n",
       "       -5.76273384e+02, -2.72868448e+02,  5.18769665e+02,  3.20707359e+03,\n",
       "       -2.65025152e+02,  1.34848774e+02, -5.26493716e+02,  4.39856543e+02,\n",
       "       -3.21472028e+02,  4.96303145e+02, -4.64669899e+02, -1.40601754e+03,\n",
       "        3.93605314e+02,  3.91515992e+02, -4.18292685e+03])"
      ]
     },
     "execution_count": 122,
     "metadata": {},
     "output_type": "execute_result"
    }
   ],
   "source": [
    "out=model.errors+model.y\n",
    "out"
   ]
  },
  {
   "cell_type": "code",
   "execution_count": 123,
   "metadata": {},
   "outputs": [],
   "source": [
    "out=[1 if i>0 else -1 for i in out]"
   ]
  },
  {
   "cell_type": "code",
   "execution_count": 124,
   "metadata": {},
   "outputs": [
    {
     "name": "stdout",
     "output_type": "stream",
     "text": [
      "              precision    recall  f1-score   support\n",
      "\n",
      "          -1       0.81      0.82      0.81       395\n",
      "           1       0.68      0.67      0.67       228\n",
      "\n",
      "    accuracy                           0.76       623\n",
      "   macro avg       0.74      0.74      0.74       623\n",
      "weighted avg       0.76      0.76      0.76       623\n",
      "\n"
     ]
    }
   ],
   "source": [
    "from sklearn.metrics import classification_report\n",
    "\n",
    "print(classification_report(y_train, out))"
   ]
  }
 ],
 "metadata": {
  "kernelspec": {
   "display_name": "Python 3",
   "language": "python",
   "name": "python3"
  },
  "language_info": {
   "codemirror_mode": {
    "name": "ipython",
    "version": 3
   },
   "file_extension": ".py",
   "mimetype": "text/x-python",
   "name": "python",
   "nbconvert_exporter": "python",
   "pygments_lexer": "ipython3",
   "version": "3.9.2"
  }
 },
 "nbformat": 4,
 "nbformat_minor": 1
}
